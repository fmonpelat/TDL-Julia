{
 "cells": [
  {
   "cell_type": "markdown",
   "metadata": {},
   "source": [
    "## Estructuras de datos\n"
   ]
  },
  {
   "cell_type": "markdown",
   "metadata": {},
   "source": [
    "### Tuplas ( dato inmutable)\n",
    "##### Secuencia ordenadas de elementos y se puede acceder por medio de un indice"
   ]
  },
  {
   "cell_type": "code",
   "execution_count": 1,
   "metadata": {
    "scrolled": false
   },
   "outputs": [
    {
     "name": "stdout",
     "output_type": "stream",
     "text": [
      "(\"loro\", \"perro\", \"gato\", \"pejelagarto\")\n",
      "loro\n"
     ]
    },
    {
     "ename": "MethodError",
     "evalue": "MethodError: no method matching setindex!(::NTuple{4,String}, ::String, ::Int64)",
     "output_type": "error",
     "traceback": [
      "MethodError: no method matching setindex!(::NTuple{4,String}, ::String, ::Int64)",
      "",
      "Stacktrace:",
      " [1] top-level scope at In[1]:4"
     ]
    }
   ],
   "source": [
    "animales = (\"loro\", \"perro\", \"gato\", \"pejelagarto\")\n",
    "println(animales)\n",
    "println(animales[1])\n",
    "animales[1]  = \"otro loro\""
   ]
  },
  {
   "cell_type": "markdown",
   "metadata": {},
   "source": [
    "### Diccionarios"
   ]
  },
  {
   "cell_type": "markdown",
   "metadata": {},
   "source": [
    "#### Formas de definirlos"
   ]
  },
  {
   "cell_type": "code",
   "execution_count": 2,
   "metadata": {},
   "outputs": [
    {
     "name": "stdout",
     "output_type": "stream",
     "text": [
      "Dict(\"Carlos\" => 39,\"Ana\" => 39,\"Miguel\" => 50)\n",
      "Dict(\"Carlos\" => 39,\"Ana\" => 39,\"Miguel\" => 50)\n"
     ]
    }
   ],
   "source": [
    "edades =  Dict(\"Carlos\" => 39, \"Miguel\" => 50, \"Ana\" => 39)\n",
    "println(edades) \n",
    "\n",
    "## o tambien lo puedo crear como array de tuplas, donde el primer elemento de la tupla es la key\n",
    "\n",
    "edades =  Dict([(\"Carlos\",39), (\"Miguel\", 50),( \"Ana\", 39)])\n",
    "println(edades) \n",
    "\n",
    "    "
   ]
  },
  {
   "cell_type": "markdown",
   "metadata": {},
   "source": [
    "##### Remover todas las entradas de un diccionario"
   ]
  },
  {
   "cell_type": "code",
   "execution_count": 3,
   "metadata": {},
   "outputs": [
    {
     "data": {
      "text/plain": [
       "Dict{String,Int64} with 0 entries"
      ]
     },
     "execution_count": 3,
     "metadata": {},
     "output_type": "execute_result"
    }
   ],
   "source": [
    "empty!(edades)\n",
    "edades"
   ]
  },
  {
   "cell_type": "markdown",
   "metadata": {},
   "source": [
    "##### Saber si un diccionario tiene una key"
   ]
  },
  {
   "cell_type": "code",
   "execution_count": 4,
   "metadata": {},
   "outputs": [
    {
     "data": {
      "text/plain": [
       "true"
      ]
     },
     "execution_count": 4,
     "metadata": {},
     "output_type": "execute_result"
    }
   ],
   "source": [
    "edades =  Dict(\"Carlos\" => 39, \"Miguel\" => 50, \"Ana\" => 39)\n",
    "haskey(edades, \"Carlos\")"
   ]
  },
  {
   "cell_type": "markdown",
   "metadata": {},
   "source": [
    "#### Para obtener un value  segun una key, o espeficar un retorno en caso de no encontrarlo\n",
    "#### en caso de usar get! se agrega la entrada"
   ]
  },
  {
   "cell_type": "code",
   "execution_count": 6,
   "metadata": {},
   "outputs": [
    {
     "name": "stdout",
     "output_type": "stream",
     "text": [
      "39\n"
     ]
    }
   ],
   "source": [
    "edades =  Dict([(\"Carlos\",39), (\"Miguel\", 50),( \"Ana\", 39)])\n",
    "edad_carlos = get(edades, \"Carlos\", \"No existe\")\n",
    "println(edad_carlos)\n"
   ]
  },
  {
   "cell_type": "code",
   "execution_count": 7,
   "metadata": {},
   "outputs": [
    {
     "name": "stdout",
     "output_type": "stream",
     "text": [
      "Persona no cargada\n"
     ]
    }
   ],
   "source": [
    "edad_palermo = get(edades, \"Palermo\", \"Persona no cargada\")\n",
    "println(edad_palermo)\n"
   ]
  },
  {
   "cell_type": "code",
   "execution_count": 8,
   "metadata": {},
   "outputs": [
    {
     "name": "stdout",
     "output_type": "stream",
     "text": [
      "8\n"
     ]
    },
    {
     "data": {
      "text/plain": [
       "Dict{String,Int64} with 4 entries:\n",
       "  \"Carlos\"  => 39\n",
       "  \"Palermo\" => 8\n",
       "  \"Ana\"     => 39\n",
       "  \"Miguel\"  => 50"
      ]
     },
     "execution_count": 8,
     "metadata": {},
     "output_type": "execute_result"
    }
   ],
   "source": [
    "edad_palermo = get!(edades, \"Palermo\", 8)\n",
    "println(edad_palermo)\n",
    "edades"
   ]
  },
  {
   "cell_type": "markdown",
   "metadata": {},
   "source": [
    " ##### Eliminar y/o sacar una entrada"
   ]
  },
  {
   "cell_type": "code",
   "execution_count": 10,
   "metadata": {},
   "outputs": [
    {
     "name": "stdout",
     "output_type": "stream",
     "text": [
      "Dict(\"Carlos\" => 39,\"Ana\" => 39,\"Miguel\" => 50)\n",
      "Dict(\"Ana\" => 39,\"Miguel\" => 50)\n"
     ]
    },
    {
     "ename": "UndefVarError",
     "evalue": "UndefVarError: pop not defined",
     "output_type": "error",
     "traceback": [
      "UndefVarError: pop not defined",
      "",
      "Stacktrace:",
      " [1] top-level scope at In[10]:5"
     ]
    }
   ],
   "source": [
    "edades =  Dict(\"Carlos\" => 39, \"Miguel\" => 50, \"Ana\" => 39)\n",
    "println(edades)\n",
    "delete!(edades, \"Carlos\")\n",
    "println(edades)\n",
    "miguel = pop!(edades, \"Miguel\")\n",
    "println(edades)\n",
    "println(miguel)\n",
    "edades"
   ]
  },
  {
   "cell_type": "markdown",
   "metadata": {},
   "source": [
    " #####  Podemos iterar sobre un diccinario, pero sin un orden constante"
   ]
  },
  {
   "cell_type": "code",
   "execution_count": 13,
   "metadata": {},
   "outputs": [
    {
     "name": "stdout",
     "output_type": "stream",
     "text": [
      "\"Carlos\" => 9\n",
      "\"Ana\" => 30\n",
      "\"Miguel\" => 50\n"
     ]
    }
   ],
   "source": [
    "edades =  Dict(\"Carlos\" => 9, \"Miguel\" => 50, \"Ana\" => 30)\n",
    "it_edades  = iterate(keys(edades))\n",
    "while it_edades !== nothing\n",
    "    (i, state) = it_edades\n",
    "    println(i)\n",
    "    it_edades = iterate(keys(edades), state)\n",
    "end    \n"
   ]
  },
  {
   "cell_type": "code",
   "execution_count": null,
   "metadata": {},
   "outputs": [],
   "source": [
    "for i in edades\n",
    "    println(i)\n",
    "end   "
   ]
  },
  {
   "cell_type": "markdown",
   "metadata": {},
   "source": [
    "### Arrays\n"
   ]
  },
  {
   "cell_type": "markdown",
   "metadata": {},
   "source": [
    "###### Cuando creamos un arrray con diferentes tipos de elementos, Julia crea un Array de ANY\n"
   ]
  },
  {
   "cell_type": "code",
   "execution_count": 14,
   "metadata": {},
   "outputs": [
    {
     "data": {
      "text/plain": [
       "4-element Array{Any,1}:\n",
       "  \"televisor\"\n",
       " 8\n",
       "  \"gato\"\n",
       " π"
      ]
     },
     "execution_count": 14,
     "metadata": {},
     "output_type": "execute_result"
    }
   ],
   "source": [
    "cosas = [\"televisor\", 8, \"gato\", pi]"
   ]
  },
  {
   "cell_type": "code",
   "execution_count": 15,
   "metadata": {},
   "outputs": [
    {
     "data": {
      "text/plain": [
       "\"televisor\""
      ]
     },
     "execution_count": 15,
     "metadata": {},
     "output_type": "execute_result"
    }
   ],
   "source": [
    "cosas[1]"
   ]
  },
  {
   "cell_type": "markdown",
   "metadata": {},
   "source": [
    "###### Otra forma, donde Float64 es el tipo de los elementos, undef significa que no va a ser inicializado con valores, y 2, 4 son las dimensiones, por lo que modificara la cantidad de elementos antes definido\n"
   ]
  },
  {
   "cell_type": "code",
   "execution_count": 18,
   "metadata": {},
   "outputs": [
    {
     "data": {
      "text/plain": [
       "2×4 Array{Float64,2}:\n",
       " 4.0e-323  1.0e-322   1.2e-322  1.43e-322\n",
       " 9.0e-323  1.14e-322  1.4e-322  0.0"
      ]
     },
     "execution_count": 18,
     "metadata": {},
     "output_type": "execute_result"
    }
   ],
   "source": [
    "Array{Float64}(undef, 2, 4) "
   ]
  },
  {
   "cell_type": "markdown",
   "metadata": {},
   "source": [
    "#### es mutable"
   ]
  },
  {
   "cell_type": "code",
   "execution_count": 19,
   "metadata": {},
   "outputs": [
    {
     "data": {
      "text/plain": [
       "4-element Array{Any,1}:\n",
       "  \"un televisor nuevo\"\n",
       " 8\n",
       "  \"gato\"\n",
       " π"
      ]
     },
     "execution_count": 19,
     "metadata": {},
     "output_type": "execute_result"
    }
   ],
   "source": [
    "cosas[1]  = \"un televisor nuevo\"\n",
    "cosas"
   ]
  },
  {
   "cell_type": "code",
   "execution_count": 20,
   "metadata": {},
   "outputs": [
    {
     "data": {
      "text/plain": [
       "π = 3.1415926535897..."
      ]
     },
     "execution_count": 20,
     "metadata": {},
     "output_type": "execute_result"
    }
   ],
   "source": [
    "una_cosa = pop!(cosas)"
   ]
  },
  {
   "cell_type": "code",
   "execution_count": 21,
   "metadata": {},
   "outputs": [
    {
     "data": {
      "text/plain": [
       "4-element Array{Any,1}:\n",
       "  \"un televisor nuevo\"\n",
       " 8\n",
       "  \"gato\"\n",
       " π"
      ]
     },
     "execution_count": 21,
     "metadata": {},
     "output_type": "execute_result"
    }
   ],
   "source": [
    "push!(cosas,una_cosa) ## mostrar el arrray sin el elemento antes"
   ]
  },
  {
   "cell_type": "markdown",
   "metadata": {},
   "source": [
    "#### Anidar arrays"
   ]
  },
  {
   "cell_type": "code",
   "execution_count": 22,
   "metadata": {},
   "outputs": [
    {
     "data": {
      "text/plain": [
       "3-element Array{Array{Int64,1},1}:\n",
       " [1, 2]\n",
       " [3, 4, 5, 6]\n",
       " [7]"
      ]
     },
     "execution_count": 22,
     "metadata": {},
     "output_type": "execute_result"
    }
   ],
   "source": [
    "muchos_arrays = [ [1,2], [3,4,5,6], [7]]"
   ]
  },
  {
   "cell_type": "markdown",
   "metadata": {},
   "source": [
    "##### La variable de un array lo que en realidad contiene es la referencia al array"
   ]
  },
  {
   "cell_type": "code",
   "execution_count": 23,
   "metadata": {},
   "outputs": [
    {
     "data": {
      "text/plain": [
       "4-element Array{Any,1}:\n",
       "  \"televisor\"\n",
       " 8\n",
       "  \"perro\"\n",
       " π"
      ]
     },
     "execution_count": 23,
     "metadata": {},
     "output_type": "execute_result"
    }
   ],
   "source": [
    "un_array = [\"televisor\", 8, \"gato\", pi] ### imprimo antes el estado original del primer array\n",
    "otro_array = un_array\n",
    "otro_array[3] = \"perro\"\n",
    "un_array"
   ]
  },
  {
   "cell_type": "markdown",
   "metadata": {},
   "source": [
    "#### A menos que creemos una copia"
   ]
  },
  {
   "cell_type": "code",
   "execution_count": 24,
   "metadata": {},
   "outputs": [
    {
     "data": {
      "text/plain": [
       "4-element Array{Any,1}:\n",
       "  \"televisor\"\n",
       " 8\n",
       "  \"gato\"\n",
       " π"
      ]
     },
     "execution_count": 24,
     "metadata": {},
     "output_type": "execute_result"
    }
   ],
   "source": [
    "un_array = [\"televisor\", 8, \"gato\", pi]\n",
    "otro_array = copy(un_array)\n",
    "otro_array[3] = \"perro\"\n",
    "un_array"
   ]
  },
  {
   "cell_type": "markdown",
   "metadata": {},
   "source": [
    "#### Crear una matriz \n"
   ]
  },
  {
   "cell_type": "code",
   "execution_count": 25,
   "metadata": {},
   "outputs": [
    {
     "data": {
      "text/plain": [
       "2×4 Array{Int64,2}:\n",
       " 1  2  3  4\n",
       " 5  6  7  8"
      ]
     },
     "execution_count": 25,
     "metadata": {},
     "output_type": "execute_result"
    }
   ],
   "source": [
    "[1 2 3 4 ; 5 6 7 8]"
   ]
  },
  {
   "cell_type": "markdown",
   "metadata": {},
   "source": [
    "##### Otra forma de crear una matriz"
   ]
  },
  {
   "cell_type": "code",
   "execution_count": 26,
   "metadata": {},
   "outputs": [
    {
     "data": {
      "text/plain": [
       "2×3 Array{Float64,2}:\n",
       " 0.0  0.0  0.0\n",
       " 0.0  0.0  6.95065e-310"
      ]
     },
     "execution_count": 26,
     "metadata": {},
     "output_type": "execute_result"
    }
   ],
   "source": [
    "Matrix{Float64}(undef, 2, 3)"
   ]
  },
  {
   "cell_type": "markdown",
   "metadata": {},
   "source": [
    "###### O con un collect de un rango de numeros"
   ]
  },
  {
   "cell_type": "code",
   "execution_count": 27,
   "metadata": {},
   "outputs": [
    {
     "data": {
      "text/plain": [
       "6-element Array{Int64,1}:\n",
       "   0\n",
       "  20\n",
       "  40\n",
       "  60\n",
       "  80\n",
       " 100"
      ]
     },
     "execution_count": 27,
     "metadata": {},
     "output_type": "execute_result"
    }
   ],
   "source": [
    "collect(0:20:100)"
   ]
  },
  {
   "cell_type": "code",
   "execution_count": 28,
   "metadata": {},
   "outputs": [
    {
     "data": {
      "text/plain": [
       "6-element Array{Int64,1}:\n",
       "   0\n",
       "  40\n",
       "  80\n",
       " 120\n",
       " 160\n",
       " 200"
      ]
     },
     "execution_count": 28,
     "metadata": {},
     "output_type": "execute_result"
    }
   ],
   "source": [
    "map( x->x*2,collect(0:20:100)) "
   ]
  },
  {
   "cell_type": "markdown",
   "metadata": {},
   "source": [
    "###### O con una la funcion ellipsis (...) que sirve representa una secuencia de argumentos"
   ]
  },
  {
   "cell_type": "code",
   "execution_count": 34,
   "metadata": {},
   "outputs": [
    {
     "data": {
      "text/plain": [
       "6-element Array{Int64,1}:\n",
       " 1\n",
       " 2\n",
       " 3\n",
       " 4\n",
       " 5\n",
       " 6"
      ]
     },
     "execution_count": 34,
     "metadata": {},
     "output_type": "execute_result"
    }
   ],
   "source": [
    "[1:6...] ### https://developer.mozilla.org/es/docs/Web/JavaScript/Referencia/Operadores/Spread_operator"
   ]
  },
  {
   "cell_type": "markdown",
   "metadata": {},
   "source": [
    "###### Y para crear un array inicializado"
   ]
  },
  {
   "cell_type": "code",
   "execution_count": 35,
   "metadata": {},
   "outputs": [
    {
     "data": {
      "text/plain": [
       "3×4 Array{String,2}:\n",
       " \"promocionar\"  \"promocionar\"  \"promocionar\"  \"promocionar\"\n",
       " \"promocionar\"  \"promocionar\"  \"promocionar\"  \"promocionar\"\n",
       " \"promocionar\"  \"promocionar\"  \"promocionar\"  \"promocionar\""
      ]
     },
     "execution_count": 35,
     "metadata": {},
     "output_type": "execute_result"
    }
   ],
   "source": [
    "fill(\"promocionar\", 3, 4)"
   ]
  },
  {
   "cell_type": "markdown",
   "metadata": {},
   "source": [
    "#### Manejo de memoria para las variables, reservar"
   ]
  },
  {
   "cell_type": "markdown",
   "metadata": {},
   "source": [
    "### Manejo de funciones  https://meet.google.com/linkredirect?authuser=0&dest=https%3A%2F%2Fen.wikipedia.org%2Fwiki%2FJust-in-time_compilation"
   ]
  },
  {
   "cell_type": "code",
   "execution_count": null,
   "metadata": {},
   "outputs": [],
   "source": []
  }
 ],
 "metadata": {
  "kernelspec": {
   "display_name": "Julia 1.4.2",
   "language": "julia",
   "name": "julia-1.4"
  },
  "language_info": {
   "file_extension": ".jl",
   "mimetype": "application/julia",
   "name": "julia",
   "version": "1.4.2"
  }
 },
 "nbformat": 4,
 "nbformat_minor": 4
}
