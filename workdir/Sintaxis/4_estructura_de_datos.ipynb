{
 "cells": [
 
  {
   "cell_type": "markdown",
   "metadata": {},
   "source": [
    "## Estructuras de datos\n"
   ]
  },
  {
   "cell_type": "markdown",
   "metadata": {},
   "source": [
    "#### Tuplas ( dato inmutable)\n",
    "##### Secuencia ordenadas de elementos y se puede acceder por medio de un indice"
   ]
  },
  {
   "cell_type": "code",
   "execution_count": 36,
   "metadata": {},
   "outputs": [
    {
     "name": "stdout",
     "output_type": "stream",
     "text": [
      "(\"loro\", \"perro\", \"gato\", \"pejelagarto\")\n",
      "loro\n"
     ]
    },
    {
     "ename": "MethodError",
     "evalue": "MethodError: no method matching setindex!(::NTuple{4,String}, ::String, ::Int64)",
     "output_type": "error",
     "traceback": [
      "MethodError: no method matching setindex!(::NTuple{4,String}, ::String, ::Int64)",
      "",
      "Stacktrace:",
      " [1] top-level scope at In[36]:4"
     ]
    }
   ],
   "source": [
    "animales = (\"loro\", \"perro\", \"gato\", \"pejelagarto\")\n",
    "println(animales)\n",
    "println(animales[1])\n",
    "animales[1]  = \"otro loro\""
   ]
  },
  {
   "cell_type": "markdown",
   "metadata": {},
   "source": [
    "### Diccionarios"
   ]
  },
  {
   "cell_type": "code",
   "execution_count": 49,
   "metadata": {},
   "outputs": [
    {
     "name": "stdout",
     "output_type": "stream",
     "text": [
      "Dict(\"Carlos\" => 39,\"Ana\" => 39,\"Miguel\" => 50)\n",
      "Dict(\"Carlos\" => 39,\"Ana\" => 39,\"Miguel\" => 50)\n"
     ]
    }
   ],
   "source": [
    "edades =  Dict(\"Carlos\" => 39, \"Miguel\" => 50, \"Ana\" => 39)\n",
    "println(edades) \n",
    "\n",
    "## o tambien lo puedo crear como array de tuplas, donde el primer elemento de la tupla es la key\n",
    "\n",
    "edades =  Dict([(\"Carlos\",39), (\"Miguel\", 50),( \"Ana\", 39)])\n",
    "println(edades) \n",
    "\n",
    "    "
   ]
  },
  {
   "cell_type": "markdown",
   "metadata": {},
   "source": [
    "##### remueve todas las entradas de edades"
   ]
  },
  {
   "cell_type": "code",
   "execution_count": 51,
   "metadata": {},
   "outputs": [
    {
     "data": {
      "text/plain": [
       "Dict{String,Int64} with 0 entries"
      ]
     },
     "execution_count": 51,
     "metadata": {},
     "output_type": "execute_result"
    }
   ],
   "source": [
    "empty!(edades)\n",
    "edades"
   ]
  },
  {
   "cell_type": "markdown",
   "metadata": {},
   "source": [
    "##### Si un diccionario tiene key"
   ]
  },
  {
   "cell_type": "code",
   "execution_count": 53,
   "metadata": {},
   "outputs": [
    {
     "data": {
      "text/plain": [
       "true"
      ]
     },
     "execution_count": 53,
     "metadata": {},
     "output_type": "execute_result"
    }
   ],
   "source": [
    "edades =  Dict(\"Carlos\" => 39, \"Miguel\" => 50, \"Ana\" => 39)\n",
    "haskey(edades, \"Carlos\")"
   ]
  },
  {
   "cell_type": "markdown",
   "metadata": {},
   "source": [
    "#### Para obtener un value  segun una key, o espeficar un retorno en caso de no encontrarlo\n",
    "#### en caso de usar get! se agrega la entrada"
   ]
  },
  {
   "cell_type": "code",
   "execution_count": 59,
   "metadata": {},
   "outputs": [
    {
     "name": "stdout",
     "output_type": "stream",
     "text": [
      "39\n",
      "Peronsa no cargada\n"
     ]
    },
    {
     "data": {
      "text/plain": [
       "Dict{String,Int64} with 4 entries:\n",
       "  \"Carlos\"  => 39\n",
       "  \"Palermo\" => 8\n",
       "  \"Ana\"     => 39\n",
       "  \"Miguel\"  => 50"
      ]
     },
     "execution_count": 59,
     "metadata": {},
     "output_type": "execute_result"
    }
   ],
   "source": [
    "edad_carlos = get(edades, \"Carlos\", \"No existe\")\n",
    "println(edad_carlos)\n",
    "edad_palermo = get(edades, \"Palermo\", \"Peronsa no cargada\")\n",
    "println(edad_palermo)\n",
    "edad_palermo = get!(edades, \"Palermo\", 8)\n",
    "edades"
   ]
  },
  {
   "cell_type": "markdown",
   "metadata": {},
   "source": [
    " ##### eliminar y/o sacar una entrada"
   ]
  },
  {
   "cell_type": "code",
   "execution_count": 64,
   "metadata": {},
   "outputs": [
    {
     "name": "stdout",
     "output_type": "stream",
     "text": [
      "Dict(\"Carlos\" => 39,\"Ana\" => 39,\"Miguel\" => 50)\n",
      "Dict(\"Ana\" => 39,\"Miguel\" => 50)\n",
      "Dict(\"Ana\" => 39)\n",
      "50\n"
     ]
    },
    {
     "data": {
      "text/plain": [
       "Dict{String,Int64} with 1 entry:\n",
       "  \"Ana\" => 39"
      ]
     },
     "execution_count": 64,
     "metadata": {},
     "output_type": "execute_result"
    }
   ],
   "source": [
    "edades =  Dict(\"Carlos\" => 39, \"Miguel\" => 50, \"Ana\" => 39)\n",
    "println(edades)\n",
    "delete!(edades, \"Carlos\")\n",
    "println(edades)\n",
    "miguel = pop!(edades, \"Miguel\")\n",
    "println(edades)\n",
    "println(miguel)\n",
    "edades"
   ]
  },
  {
   "cell_type": "markdown",
   "metadata": {},
   "source": [
    " #####  podemos iterar sobre un diccinario, pero sin un orden constante"
   ]
  },
  {
   "cell_type": "code",
   "execution_count": 88,
   "metadata": {},
   "outputs": [
    {
     "name": "stdout",
     "output_type": "stream",
     "text": [
      "Carlos\n",
      "Ana\n",
      "Miguel\n"
     ]
    }
   ],
   "source": [
    "edades =  Dict(\"Carlos\" => 9, \"Miguel\" => 50, \"Ana\" => 39)\n",
    "it_edades  = iterate(keys(edades))\n",
    "while it_edades !== nothing\n",
    "    (i, state) = it_edades\n",
    "    println(i)\n",
    "    it_edades = iterate(keys(edades), state)\n",
    "end    \n"
   ]
  },
  {
   "cell_type": "markdown",
   "metadata": {},
   "source": [
    " #### https://docs.julialang.org/en/v1/base/arrays/#Broadcast-and-vectorization-1 \n",
    " "
   ]
  },
  {
   "cell_type": "markdown",
   "metadata": {},
   "source": [
    "#### Manejo de memoria para las variables, reservar"
   ]
  },
  {
   "cell_type": "markdown",
   "metadata": {},
   "source": [
    "### Manejo de funciones  https://meet.google.com/linkredirect?authuser=0&dest=https%3A%2F%2Fen.wikipedia.org%2Fwiki%2FJust-in-time_compilation"
   ]
  },
  {
   "cell_type": "code",
   "execution_count": null,
   "metadata": {},
   "outputs": [],
   "source": []
  }
 ],
 "metadata": {
  "kernelspec": {
   "display_name": "Julia 1.4.2",
   "language": "julia",
   "name": "julia-1.4"
  },
  "language_info": {
   "file_extension": ".jl",
   "mimetype": "application/julia",
   "name": "julia",
   "version": "1.4.2"
  }
 },
 "nbformat": 4,
 "nbformat_minor": 4
}
