{
 "cells": [
  {
   "cell_type": "markdown",
   "metadata": {},
   "source": [
    "### Cómo podemos hacer para distribuir la carga?"
   ]
  },
  {
   "cell_type": "markdown",
   "metadata": {},
   "source": [
    "La topología que nosotros elegimos es de un nodo coordinador y 4 workers."
   ]
  },
  {
   "cell_type": "markdown",
   "metadata": {},
   "source": [
    "![topologia](tdl_topologia_julia.jpg)"
   ]
  },
  {
   "cell_type": "markdown",
   "metadata": {},
   "source": [
    "Julia se comunica con los workers mediante una comunicación por SSH."
   ]
  },
  {
   "cell_type": "code",
   "execution_count": 1,
   "metadata": {},
   "outputs": [
    {
     "data": {
      "text/plain": [
       "4-element Array{Tuple{String,Int64},1}:\n",
       " (\"montecarlo@worker_1:22\", 1)\n",
       " (\"montecarlo@worker_2:22\", 1)\n",
       " (\"montecarlo@worker_3:22\", 1)\n",
       " (\"montecarlo@worker_4:22\", 1)"
      ]
     },
     "execution_count": 1,
     "metadata": {},
     "output_type": "execute_result"
    }
   ],
   "source": [
    "using Distributed\n",
    "workervec = [(\"montecarlo@worker_1:22\",1),\n",
    "             (\"montecarlo@worker_2:22\",1),\n",
    "             (\"montecarlo@worker_3:22\",1),\n",
    "             (\"montecarlo@worker_4:22\",1)]"
   ]
  },
  {
   "cell_type": "code",
   "execution_count": 2,
   "metadata": {},
   "outputs": [
    {
     "name": "stderr",
     "output_type": "stream",
     "text": [
      "Warning: Permanently added 'worker_3,172.18.0.3' (ECDSA) to the list of known hosts.\r\n",
      "Warning: Permanently added 'worker_4,172.18.0.4' (ECDSA) to the list of known hosts.\r\n",
      "Warning: Permanently added 'worker_1,172.18.0.2' (ECDSA) to the list of known hosts.\r\n",
      "Warning: Permanently added 'worker_2,172.18.0.5' (ECDSA) to the list of known hosts.\r\n"
     ]
    },
    {
     "data": {
      "text/plain": [
       "4-element Array{Int64,1}:\n",
       " 2\n",
       " 3\n",
       " 4\n",
       " 5"
      ]
     },
     "execution_count": 2,
     "metadata": {},
     "output_type": "execute_result"
    }
   ],
   "source": [
    "addprocs(workervec; tunnel=true)"
   ]
  },
  {
   "cell_type": "code",
   "execution_count": 3,
   "metadata": {},
   "outputs": [
    {
     "name": "stdout",
     "output_type": "stream",
     "text": [
      "Number procs: 5\n",
      "Number of workers: 4\n"
     ]
    }
   ],
   "source": [
    "println(\"Number procs: $(nprocs())\")\n",
    "println(\"Number of workers: $(nworkers())\")"
   ]
  },
  {
   "cell_type": "code",
   "execution_count": 4,
   "metadata": {},
   "outputs": [
    {
     "data": {
      "text/plain": [
       "2-element Array{Int64,1}:\n",
       " 6\n",
       " 7"
      ]
     },
     "execution_count": 4,
     "metadata": {},
     "output_type": "execute_result"
    }
   ],
   "source": [
    "addprocs(2)"
   ]
  },
  {
   "cell_type": "code",
   "execution_count": 5,
   "metadata": {},
   "outputs": [
    {
     "name": "stdout",
     "output_type": "stream",
     "text": [
      "Number procs: 7\n",
      "Number of workers: 6\n"
     ]
    }
   ],
   "source": [
    "println(\"Number procs: $(nprocs())\")\n",
    "println(\"Number of workers: $(nworkers())\")"
   ]
  }
 ],
 "metadata": {
  "kernelspec": {
   "display_name": "Julia 1.4.2",
   "language": "julia",
   "name": "julia-1.4"
  },
  "language_info": {
   "file_extension": ".jl",
   "mimetype": "application/julia",
   "name": "julia",
   "version": "1.4.2"
  }
 },
 "nbformat": 4,
 "nbformat_minor": 4
}
