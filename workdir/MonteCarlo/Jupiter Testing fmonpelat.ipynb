{
 "cells": [
  {
   "cell_type": "code",
   "execution_count": 1,
   "metadata": {},
   "outputs": [],
   "source": [
    "using Distributed\n"
   ]
  },
  {
   "cell_type": "code",
   "execution_count": 2,
   "metadata": {},
   "outputs": [
    {
     "name": "stderr",
     "output_type": "stream",
     "text": [
      "┌ Info: Precompiling Gadfly [c91e804a-d5a3-530f-b6f0-dfbca275c004]\n",
      "└ @ Base loading.jl:1260\n",
      "┌ Warning: Package FixedPointNumbers does not have Statistics in its dependencies:\n",
      "│ - If you have FixedPointNumbers checked out for development and have\n",
      "│   added Statistics as a dependency but haven't updated your primary\n",
      "│   environment's manifest file, try `Pkg.resolve()`.\n",
      "│ - Otherwise you may need to report an issue with FixedPointNumbers\n",
      "└ Loading Statistics into FixedPointNumbers from project dependency, future warnings for FixedPointNumbers are suppressed.\n",
      "┌ Warning: The call to compilecache failed to create a usable precompiled cache file for Colors [5ae59095-9a9b-59fe-a467-6f913c188581]\n",
      "│   exception = Required dependency FixedPointNumbers [53c48c17-4a7d-5ca2-90c5-79b7896eea93] failed to load from a cache file.\n",
      "└ @ Base loading.jl:1041\n",
      "┌ Warning: Package FixedPointNumbers does not have Statistics in its dependencies:\n",
      "│ - If you have FixedPointNumbers checked out for development and have\n",
      "│   added Statistics as a dependency but haven't updated your primary\n",
      "│   environment's manifest file, try `Pkg.resolve()`.\n",
      "│ - Otherwise you may need to report an issue with FixedPointNumbers\n",
      "└ Loading Statistics into FixedPointNumbers from project dependency, future warnings for FixedPointNumbers are suppressed.\n",
      "┌ Warning: Module Colors with build ID 2839308639857 is missing from the cache.\n",
      "│ This may mean Colors [5ae59095-9a9b-59fe-a467-6f913c188581] does not support precompilation but is imported by a module that does.\n",
      "└ @ Base loading.jl:1016\n",
      "┌ Warning: The call to compilecache failed to create a usable precompiled cache file for Gadfly [c91e804a-d5a3-530f-b6f0-dfbca275c004]\n",
      "│   exception = ErrorException(\"Required dependency FixedPointNumbers [53c48c17-4a7d-5ca2-90c5-79b7896eea93] failed to load from a cache file.\")\n",
      "└ @ Base loading.jl:1041\n",
      "┌ Info: Precompiling Colors [5ae59095-9a9b-59fe-a467-6f913c188581]\n",
      "└ @ Base loading.jl:1260\n",
      "┌ Warning: Package FixedPointNumbers does not have Statistics in its dependencies:\n",
      "│ - If you have FixedPointNumbers checked out for development and have\n",
      "│   added Statistics as a dependency but haven't updated your primary\n",
      "│   environment's manifest file, try `Pkg.resolve()`.\n",
      "│ - Otherwise you may need to report an issue with FixedPointNumbers\n",
      "└ Loading Statistics into FixedPointNumbers from project dependency, future warnings for FixedPointNumbers are suppressed.\n",
      "┌ Warning: The call to compilecache failed to create a usable precompiled cache file for Colors [5ae59095-9a9b-59fe-a467-6f913c188581]\n",
      "│   exception = ErrorException(\"Required dependency FixedPointNumbers [53c48c17-4a7d-5ca2-90c5-79b7896eea93] failed to load from a cache file.\")\n",
      "└ @ Base loading.jl:1041\n",
      "┌ Info: Precompiling FixedPointNumbers [53c48c17-4a7d-5ca2-90c5-79b7896eea93]\n",
      "└ @ Base loading.jl:1260\n",
      "┌ Warning: Package FixedPointNumbers does not have Statistics in its dependencies:\n",
      "│ - If you have FixedPointNumbers checked out for development and have\n",
      "│   added Statistics as a dependency but haven't updated your primary\n",
      "│   environment's manifest file, try `Pkg.resolve()`.\n",
      "│ - Otherwise you may need to report an issue with FixedPointNumbers\n",
      "└ Loading Statistics into FixedPointNumbers from project dependency, future warnings for FixedPointNumbers are suppressed.\n",
      "┌ Info: Precompiling ColorTypes [3da002f7-5984-5a60-b8a6-cbb66c0b333f]\n",
      "└ @ Base loading.jl:1260\n",
      "┌ Info: Precompiling Compose [a81c6b42-2e10-5240-aca2-a61377ecd94b]\n",
      "└ @ Base loading.jl:1260\n",
      "┌ Warning: Module Colors with build ID 2907992697592 is missing from the cache.\n",
      "│ This may mean Colors [5ae59095-9a9b-59fe-a467-6f913c188581] does not support precompilation but is imported by a module that does.\n",
      "└ @ Base loading.jl:1016\n",
      "┌ Info: Skipping precompilation since __precompile__(false). Importing Compose [a81c6b42-2e10-5240-aca2-a61377ecd94b].\n",
      "└ @ Base loading.jl:1033\n"
     ]
    }
   ],
   "source": [
    "using Gadfly\n"
   ]
  },
  {
   "cell_type": "code",
   "execution_count": 3,
   "metadata": {},
   "outputs": [
    {
     "data": {
      "text/plain": [
       "4-element Array{Tuple{String,Int64},1}:\n",
       " (\"montecarlo@worker_1:22\", 1)\n",
       " (\"montecarlo@worker_2:22\", 1)\n",
       " (\"montecarlo@worker_3:22\", 1)\n",
       " (\"montecarlo@worker_4:22\", 1)"
      ]
     },
     "execution_count": 3,
     "metadata": {},
     "output_type": "execute_result"
    }
   ],
   "source": [
    "workervec = [ (\"montecarlo@worker_1:22\",1),\n",
    "            (\"montecarlo@worker_2:22\",1),\n",
    "            (\"montecarlo@worker_3:22\",1),\n",
    "            (\"montecarlo@worker_4:22\",1)]"
   ]
  },
  {
   "cell_type": "code",
   "execution_count": 4,
   "metadata": {},
   "outputs": [
    {
     "name": "stderr",
     "output_type": "stream",
     "text": [
      "Warning: Permanently added 'worker_3,172.18.0.3' (ECDSA) to the list of known hosts.\r\n",
      "Warning: Permanently added 'worker_2,172.18.0.5' (ECDSA) to the list of known hosts.\r\n",
      "Warning: Permanently added 'worker_1,172.18.0.2' (ECDSA) to the list of known hosts.\r\n",
      "Warning: Permanently added 'worker_4,172.18.0.4' (ECDSA) to the list of known hosts.\r\n"
     ]
    },
    {
     "data": {
      "text/plain": [
       "4-element Array{Int64,1}:\n",
       " 2\n",
       " 3\n",
       " 4\n",
       " 5"
      ]
     },
     "execution_count": 4,
     "metadata": {},
     "output_type": "execute_result"
    }
   ],
   "source": [
    "addprocs(workervec; tunnel=true)"
   ]
  },
  {
   "cell_type": "code",
   "execution_count": 5,
   "metadata": {},
   "outputs": [
    {
     "name": "stdout",
     "output_type": "stream",
     "text": [
      "Number procs: 5\n",
      "Number of workers: 4\n"
     ]
    }
   ],
   "source": [
    "println(\"Number procs: $(nprocs())\")\n",
    "println(\"Number of workers: $(nworkers())\")"
   ]
  },
  {
   "cell_type": "code",
   "execution_count": null,
   "metadata": {},
   "outputs": [],
   "source": [
    "z = 0\n",
    "x=0.5\n",
    "y=0.5\n",
    "# notamos que al darnos el bool el overload += lo cuenta como integer\n",
    "println( (x*x + y*y) <=1 )\n",
    "z += (x*x + y*y) <=1\n"
   ]
  },
  {
   "cell_type": "code",
   "execution_count": 23,
   "metadata": {},
   "outputs": [],
   "source": [
    "@everywhere function pointsCircle(n,chart)\n",
    "    # chart is a array of tuples\n",
    "    n_in = 0\n",
    "    for i=1:n\n",
    "        x, y = rand(), rand()\n",
    "        # this is a tuple (x,y)\n",
    "#         if i<1000\n",
    "#             push!(chart, (x,y)) # push the tuple to the array\n",
    "#         end\n",
    "        n_in += (x*x + y*y) <=1\n",
    "    end\n",
    "    return n_in\n",
    "end"
   ]
  },
  {
   "cell_type": "code",
   "execution_count": 24,
   "metadata": {},
   "outputs": [
    {
     "data": {
      "text/plain": [
       "pi_p (generic function with 2 methods)"
      ]
     },
     "execution_count": 24,
     "metadata": {},
     "output_type": "execute_result"
    }
   ],
   "source": [
    "function pi_p(n,chart)\n",
    "    # n quantity simulations distributed over p workers available\n",
    "    p = nworkers()\n",
    "    n_in = @distributed (+) for i=1:p # reduction call\n",
    "        pointsCircle(n/p,chart)\n",
    "    end\n",
    "    return 4*n_in/n # Pi Aprox\n",
    "end"
   ]
  },
  {
   "cell_type": "code",
   "execution_count": null,
   "metadata": {},
   "outputs": [],
   "source": [
    "chart = Array{Tuple{Float64, Float64}}(undef, 0)"
   ]
  },
  {
   "cell_type": "code",
   "execution_count": 25,
   "metadata": {},
   "outputs": [
    {
     "data": {
      "text/plain": [
       "0-element Array{Tuple{Float64,Float64},1}"
      ]
     },
     "execution_count": 25,
     "metadata": {},
     "output_type": "execute_result"
    }
   ],
   "source": [
    "chart = Tuple{Float64, Float64}[]"
   ]
  },
  {
   "cell_type": "code",
   "execution_count": 26,
   "metadata": {},
   "outputs": [
    {
     "name": "stdout",
     "output_type": "stream",
     "text": [
      "114.070958 seconds (24.97 k allocations: 1.272 MiB)\n"
     ]
    },
    {
     "data": {
      "text/plain": [
       "3.141588092"
      ]
     },
     "execution_count": 26,
     "metadata": {},
     "output_type": "execute_result"
    }
   ],
   "source": [
    "chart = Tuple{Float64, Float64}[]\n",
    "@time (4/10_000_000_000)*pointsCircle(10_000_000_000,chart)"
   ]
  },
  {
   "cell_type": "code",
   "execution_count": null,
   "metadata": {},
   "outputs": [],
   "source": [
    "# X1 = (x->x[1]).(chart)\n",
    "# Y1 = (y->y[2]).(chart)\n",
    "# scatter(X1,Y1)"
   ]
  },
  {
   "cell_type": "code",
   "execution_count": 30,
   "metadata": {},
   "outputs": [
    {
     "name": "stdout",
     "output_type": "stream",
     "text": [
      " 70.427086 seconds (1.89 k allocations: 59.625 KiB)\n"
     ]
    },
    {
     "data": {
      "text/plain": [
       "3.1416122068"
      ]
     },
     "execution_count": 30,
     "metadata": {},
     "output_type": "execute_result"
    }
   ],
   "source": [
    "chart = Tuple{Float64, Float64}[]\n",
    "@time pi_p(10_000_000_000,chart)"
   ]
  },
  {
   "cell_type": "code",
   "execution_count": 29,
   "metadata": {},
   "outputs": [
    {
     "data": {
      "text/plain": [
       "4.0e-10"
      ]
     },
     "execution_count": 29,
     "metadata": {},
     "output_type": "execute_result"
    }
   ],
   "source": [
    "4/10_000_000_000"
   ]
  },
  {
   "cell_type": "markdown",
   "metadata": {},
   "source": [
    "For fun:\n",
    "https://docs.julialang.org/en/v1/manual/metaprogramming/#man-macros-1\n",
    "\n",
    "No existen magic commands in Ijulia pero tenemos la ayuda de macros, con estas y ayuda de magics.jl de Ijulia podemos hacer que salga babu frik diciendonos hurray.\n",
    "\n",
    "Metaprogramming:\n",
    "\n",
    "Macros\n",
    "Macros provide a method to include generated code in the final body of a program. A macro maps a tuple of arguments to a returned expression, and the resulting expression is compiled directly rather than requiring a runtime eval call. Macro arguments may include expressions, literal values, and symbols.\n",
    "\n"
   ]
  },
  {
   "cell_type": "code",
   "execution_count": null,
   "metadata": {},
   "outputs": [],
   "source": [
    "HTML(\"\"\"\n",
    "<head>\n",
    "\t<meta charset=\"utf-8\">\n",
    "\t<title>Show Babu Frik </title>\n",
    "\t<link rel=\"stylesheet\" href=\"toasty/toasty.css\" />\n",
    "</head>\n",
    "<script src=\"https://code.jquery.com/jquery-1.11.2.min.js\"></script>\n",
    "<script src=\"toasty/jquery.toasty.js\"></script>\n",
    "\"\"\")"
   ]
  },
  {
   "cell_type": "code",
   "execution_count": null,
   "metadata": {},
   "outputs": [],
   "source": [
    "macro javascript_str(s) display(\"text/javascript\", s); end\n",
    "macro hurray()\n",
    "    return :(\n",
    "        javascript\"\"\"\n",
    "        $(document).ready( function(){\n",
    "                  $(\"body\").toasty();\n",
    "                  $(\"body\").toasty('pop');\n",
    "        });\n",
    "        \"\"\"\n",
    "    )\n",
    "end"
   ]
  },
  {
   "cell_type": "code",
   "execution_count": null,
   "metadata": {},
   "outputs": [],
   "source": [
    "@hurray"
   ]
  },
  {
   "cell_type": "code",
   "execution_count": null,
   "metadata": {},
   "outputs": [],
   "source": []
  }
 ],
 "metadata": {
  "kernelspec": {
   "display_name": "Julia 1.4.2",
   "language": "julia",
   "name": "julia-1.4"
  },
  "language_info": {
   "file_extension": ".jl",
   "mimetype": "application/julia",
   "name": "julia",
   "version": "1.4.2"
  }
 },
 "nbformat": 4,
 "nbformat_minor": 4
}
