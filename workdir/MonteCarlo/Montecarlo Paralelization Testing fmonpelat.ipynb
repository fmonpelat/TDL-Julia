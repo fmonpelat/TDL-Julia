{
 "cells": [
    {
   "cell_type": "markdown",
   "metadata": {},
   "source": [
    "#### AWS t2.xlarge\n",
    "Vendor=GenuineIntel Model=Intel(R) Xeon(R) CPU E5-2686 v4 @ 2.30GHz MHz=2300.234 bogomips=4600.15\n",
    "ProcessorChips=1 PhyscalCores=4\n"
   ]
  },
  {
   "cell_type": "code",
   "execution_count": 1,
   "metadata": {},
   "outputs": [],
   "source": [
    "using Distributed"
   ]
  },
  {
   "cell_type": "markdown",
   "metadata": {},
   "source": [
    "#### Que es la Metaprogramacion?\n",
    "\n",
    "La metaprogramacion es cuando se escribe codigo para que procese y modifique codigo en julia.\n",
    "\n",
    "Existen 2 etapas (hay mas pero se va del scope de este notebook):\n",
    "1. Etapa de parseo del codigo julia para poder ser ejecutado (es donde los errores de sintaxis aparecen), el resultado de este proceso es un arbol de sintaxis abstracto (Abstract Syntax Tree - AST).\n",
    "2. Etapa de ejecucion del codigo parseado.\n",
    "\n",
    "Lo que en julia se llama macro, los programadores de python lo llaman decorator. Estas macros pueden modificar el codigo y añadir o modificar su contenido.\n",
    "\n",
    "Por ejemplo en este proyecto se usara @time y haremos en breve @hurray para demostrar.\n",
    "\n",
    "@time agrega un inicio del cronometro antes de la etapa 2 y luego que se termine la etapa 2 lo frena e imprime tiempos y allocaciones de memoria.\n",
    "\n",
    "@hurray es una macro que vamos a crear para que salga un gif de babu frik (personaje de star wars) cuando termine el codigo distribuido.\n",
    "\n",
    "El notebook corre con IJulia que es simil a Ipython en jupyter notebooks, veremos que existen diferencias como por ejemplo no existe la IPython %magic syntax."
   ]
  },
  {
   "cell_type": "code",
   "execution_count": 2,
   "metadata": {},
   "outputs": [
    {
     "data": {
      "text/html": [
       "<head>\n",
       "\t<meta charset=\"utf-8\">\n",
       "\t<title>Show Babu Frik </title>\n",
       "\t<link rel=\"stylesheet\" href=\"toasty/toasty.css\" />\n",
       "</head>\n",
       "<script src=\"https://code.jquery.com/jquery-1.11.2.min.js\"></script>\n",
       "<script src=\"toasty/jquery.toasty.js\"></script>\n"
      ],
      "text/plain": [
       "HTML{String}(\"<head>\\n\\t<meta charset=\\\"utf-8\\\">\\n\\t<title>Show Babu Frik </title>\\n\\t<link rel=\\\"stylesheet\\\" href=\\\"toasty/toasty.css\\\" />\\n</head>\\n<script src=\\\"https://code.jquery.com/jquery-1.11.2.min.js\\\"></script>\\n<script src=\\\"toasty/jquery.toasty.js\\\"></script>\\n\")"
      ]
     },
     "execution_count": 2,
     "metadata": {},
     "output_type": "execute_result"
    }
   ],
   "source": [
    "HTML(\"\"\"\n",
    "<head>\n",
    "\t<meta charset=\"utf-8\">\n",
    "\t<title>Show Babu Frik </title>\n",
    "\t<link rel=\"stylesheet\" href=\"toasty/toasty.css\" />\n",
    "</head>\n",
    "<script src=\"https://code.jquery.com/jquery-1.11.2.min.js\"></script>\n",
    "<script src=\"toasty/jquery.toasty.js\"></script>\n",
    "\"\"\")"
   ]
  },
  {
   "cell_type": "code",
   "execution_count": null,
   "metadata": {},
   "outputs": [],
   "source": [
    "%%javascript"
   ]
  },
  {
   "cell_type": "code",
   "execution_count": 3,
   "metadata": {},
   "outputs": [
    {
     "data": {
      "text/plain": [
       "@hurray (macro with 1 method)"
      ]
     },
     "execution_count": 3,
     "metadata": {},
     "output_type": "execute_result"
    }
   ],
   "source": [
    "macro javascript_str(s) display(\"text/javascript\", s); end\n",
    "macro hurray()\n",
    "    return :(\n",
    "        javascript\"\"\"\n",
    "        $(document).ready( function(){\n",
    "                  $(\"body\").toasty();\n",
    "                  $(\"body\").toasty('pop');\n",
    "        });\n",
    "        \"\"\"\n",
    "    )\n",
    "end"
   ]
  },
  {
   "cell_type": "markdown",
   "metadata": {},
   "source": [
    "#### PROJECT"
   ]
  },
  {
   "cell_type": "code",
   "execution_count": 4,
   "metadata": {},
   "outputs": [
    {
     "data": {
      "text/plain": [
       "4-element Array{Tuple{String,Int64},1}:\n",
       " (\"montecarlo@worker_1:22\", 1)\n",
       " (\"montecarlo@worker_2:22\", 1)\n",
       " (\"montecarlo@worker_3:22\", 1)\n",
       " (\"montecarlo@worker_4:22\", 1)"
      ]
     },
     "execution_count": 4,
     "metadata": {},
     "output_type": "execute_result"
    }
   ],
   "source": [
    "workervec = [(\"montecarlo@worker_1:22\",1),\n",
    "             (\"montecarlo@worker_2:22\",1),\n",
    "             (\"montecarlo@worker_3:22\",1),\n",
    "             (\"montecarlo@worker_4:22\",1)]"
   ]
  },
  {
   "cell_type": "code",
   "execution_count": 5,
   "metadata": {},
   "outputs": [
    {
     "name": "stderr",
     "output_type": "stream",
     "text": [
      "Warning: Permanently added 'worker_3,172.18.0.5' (ECDSA) to the list of known hosts.\r\n",
      "Warning: Permanently added 'worker_2,172.18.0.3' (ECDSA) to the list of known hosts.\r\n",
      "Warning: Permanently added 'worker_4,172.18.0.2' (ECDSA) to the list of known hosts.\r\n",
      "Warning: Permanently added 'worker_1,172.18.0.6' (ECDSA) to the list of known hosts.\r\n"
     ]
    },
    {
     "data": {
      "text/plain": [
       "4-element Array{Int64,1}:\n",
       " 2\n",
       " 3\n",
       " 4\n",
       " 5"
      ]
     },
     "execution_count": 5,
     "metadata": {},
     "output_type": "execute_result"
    }
   ],
   "source": [
    "addprocs(workervec; tunnel=true)"
   ]
  },
  {
   "cell_type": "code",
   "execution_count": 6,
   "metadata": {},
   "outputs": [
    {
     "name": "stdout",
     "output_type": "stream",
     "text": [
      "Number procs: 5\n",
      "Number of workers: 4\n"
     ]
    }
   ],
   "source": [
    "println(\"Number procs: $(nprocs())\")\n",
    "println(\"Number of workers: $(nworkers())\")"
   ]
  },
  {
   "cell_type": "code",
   "execution_count": 7,
   "metadata": {},
   "outputs": [],
   "source": [
    "# esta funcion debe ser igual que la de agustin\n",
    "@everywhere function MC_PI(N::Int)\n",
    "    in_circle = 0\n",
    "    for i = 1:N\n",
    "        x, y = 2*rand()-1, 2*rand()-1\n",
    "        in_circle += x^2 + y^2 <= 1.0\n",
    "    end\n",
    "    return in_circle\n",
    "end"
   ]
  },
  {
   "cell_type": "code",
   "execution_count": 8,
   "metadata": {},
   "outputs": [
    {
     "data": {
      "text/plain": [
       "DistributedCalc (generic function with 2 methods)"
      ]
     },
     "execution_count": 8,
     "metadata": {},
     "output_type": "execute_result"
    }
   ],
   "source": [
    "function DistributedCalc(f::Function, N::Int, workers::Int=-1)\n",
    "    # f = Some function\n",
    "    # n = Quantity simulations distributed\n",
    "    # workers = if -1 full workers otherwise set number\n",
    "    \n",
    "    p = nworkers()\n",
    "    if workers != -1 && workers <= p\n",
    "        p = workers\n",
    "    end\n",
    "    #println(\"wokers set $(p)\")\n",
    "    \n",
    "    # split the simulations over the workers set\n",
    "    n = convert(Int64,round(N/p))\n",
    "    \n",
    "    n_in = @distributed (+) for i=1:p # reduction call\n",
    "        f(n)\n",
    "    end\n",
    "    \n",
    "    return n_in # Pi Aprox\n",
    "end"
   ]
  },
  {
   "cell_type": "code",
   "execution_count": 9,
   "metadata": {},
   "outputs": [
    {
     "name": "stdout",
     "output_type": "stream",
     "text": [
      "3.1415922120000004\n",
      " 11.551122 seconds (104.38 k allocations: 5.478 MiB)\n"
     ]
    }
   ],
   "source": [
    "@time println( (4/1_000_000_000)*MC_PI(1_000_000_000))"
   ]
  },
  {
   "cell_type": "code",
   "execution_count": 12,
   "metadata": {},
   "outputs": [
    {
     "name": "stdout",
     "output_type": "stream",
     "text": [
      "3.141591248\n",
      " 31.149949 seconds (1.07 k allocations: 36.703 KiB)\n"
     ]
    }
   ],
   "source": [
    "@time println( (4/10_000_000_000)*DistributedCalc(MC_PI,10_000_000_000,-1) )\n",
    "#@hurray"
   ]
  },
  {
   "cell_type": "markdown",
   "metadata": {},
   "source": [
    "#### Further generalization for general defined integrals"
   ]
  },
  {
   "cell_type": "markdown",
   "metadata": {},
   "source": [
    "![alt text](integral_montecarlo.png \"Diagram of calls\")"
   ]
  },
  {
   "cell_type": "code",
   "execution_count": null,
   "metadata": {},
   "outputs": [],
   "source": [
    "@everywhere function f1(x)\n",
    "    return x^3\n",
    "end"
   ]
  },
  {
   "cell_type": "code",
   "execution_count": null,
   "metadata": {},
   "outputs": [],
   "source": [
    "## changed the arguments of pointsCircle -> x_min::Int,x_max::Int,y_min::Int,y_max::Int\n",
    "#\n",
    "@everywhere function integralPoint(f::Function, n::Int64, x_min::Int, x_max::Int, y_min::Int, y_max::Int)\n",
    "    \n",
    "    in_integral = 0\n",
    "    \n",
    "    for i=1:n\n",
    "\n",
    "        x = rand()*(x_max-x_min) + x_min   # pick a random point in the range\n",
    "        y = rand()*(y_max-y_min) + y_min\n",
    "\n",
    "        if 0< y < f(x)   # if the y coordinate is between the x-axis and f(x) with f(x)>0, add it to in_integral\n",
    "            in_integral += 1\n",
    "        end\n",
    "\n",
    "        if f(x) < y < 0   # if the y coordinate is between the x-axis and f(x) with f(x)<0, subtract it from in_integral\n",
    "            in_integral -=1\n",
    "        end\n",
    "    \n",
    "    end\n",
    "    \n",
    "    return in_integral\n",
    "\n",
    "end"
   ]
  },
  {
   "cell_type": "code",
   "execution_count": null,
   "metadata": {},
   "outputs": [],
   "source": [
    "## changed the arguments of DistributedCalc -> x_min::Int,x_max::Int,y_min::Int,y_max::Int\n",
    "#\n",
    "function DistributedCalc(f::Function, N::Int, x_min::Int, x_max::Int, y_min::Int, y_max::Int, workers::Int=-1)\n",
    "    # f = Some function\n",
    "    # n = Quantity simulations distributed\n",
    "    # workers = if -1 full workers otherwise set number\n",
    "    \n",
    "    n_in = 0\n",
    "    \n",
    "    p = nworkers()\n",
    "    if workers != -1 && workers <= p\n",
    "        p = workers\n",
    "    end\n",
    "    # println(\"wokers set: $(p)\")\n",
    "    \n",
    "    # split the simulations over the workers set\n",
    "    n = convert(Int64,round(N/p))\n",
    "    \n",
    "    n_in = @distributed (+) for i=1:p # reduction call\n",
    "        \n",
    "       integralPoint(f, N, x_min, x_max, y_min, y_max)\n",
    "        \n",
    "    end\n",
    "    \n",
    "    return n_in\n",
    "end"
   ]
  },
  {
   "cell_type": "code",
   "execution_count": null,
   "metadata": {},
   "outputs": [],
   "source": [
    "function McIntegral(f::Function,N::Int64, range::Any)\n",
    "\n",
    "    # f =  general function\n",
    "    # N = maximun number of montecarlo steps\n",
    "    # range = list of min and max values to define the interval\n",
    "\n",
    "    x_min = range[1]\n",
    "    x_max = range[2]\n",
    "\n",
    "    in_integral = 0\n",
    "    \n",
    "    y_max = findmax(map(f,collect(x_min:x_max)))[1]   # find the max of the function in the interval\n",
    "    y_min = findmin(map(f,collect(x_min:x_max)))[1]   # find the min of the function in the interval\n",
    "\n",
    "    return ( ((x_max-x_min)*(y_max-y_min))/N) * DistributedCalc(f, N, x_min, x_max, y_min, y_max)\n",
    "\n",
    "end\n"
   ]
  },
  {
   "cell_type": "code",
   "execution_count": null,
   "metadata": {},
   "outputs": [],
   "source": [
    "## Non distributed visual calculation\n",
    "function VisualMcIntegral(f::Function,N::Int,MIN::Int64, MAX::Int64)\n",
    "    \n",
    "    x_list_in=[]\n",
    "    x_list_out=[]\n",
    "    y_list_in=[]\n",
    "    y_list_out=[]\n",
    "    \n",
    "    sizehint!(x_list_in,N)\n",
    "    sizehint!(x_list_out,N)\n",
    "    sizehint!(y_list_in,N)\n",
    "    sizehint!(y_list_out,N)\n",
    "    \n",
    "    y_max = findmax(map(f,collect(MIN:MAX)))[1]\n",
    "    y_min = findmin(map(f,collect(MIN:MAX)))[1]\n",
    "    \n",
    "    for i = 1 : N\n",
    "        \n",
    "        x = rand()*(MAX-MIN) + MIN\n",
    "        y = rand()*(y_max-y_min) + y_min\n",
    " \n",
    "        if 0 < y < f(x) || f(x) < y < 0\n",
    "            push!(x_list_in,x)\n",
    "            push!(y_list_in,y)\n",
    "        \n",
    "        else\n",
    "            push!(x_list_out,x)\n",
    "            push!(y_list_out,y)\n",
    "        \n",
    "        end\n",
    "        \n",
    "    end\n",
    "    \n",
    "    ci = scatter(x_list_in,y_list_in,\n",
    "                leg = false,\n",
    "                aspect_ratio = 1,\n",
    "                markersize=[2,2], color=[\"blue\"],xlims = (MIN,MAX), ylims = (y_min,y_max))\n",
    "    \n",
    "\n",
    "end"
   ]
  },
  {
   "cell_type": "code",
   "execution_count": null,
   "metadata": {},
   "outputs": [],
   "source": [
    "VisualMcIntegral(f1,10_000,0,1)"
   ]
  },
  {
   "cell_type": "code",
   "execution_count": null,
   "metadata": {},
   "outputs": [],
   "source": [
    "println( McIntegral(f1,100_000_000,[0,1]))"
   ]
  },
  {
   "cell_type": "markdown",
   "metadata": {},
   "source": [
    "-----------------------------------------------"
   ]
  }
 ],
 "metadata": {
  "kernelspec": {
   "display_name": "Julia 1.4.2",
   "language": "julia",
   "name": "julia-1.4"
  },
  "language_info": {
   "file_extension": ".jl",
   "mimetype": "application/julia",
   "name": "julia",
   "version": "1.4.2"
  }
 },
 "nbformat": 4,
 "nbformat_minor": 4
}
