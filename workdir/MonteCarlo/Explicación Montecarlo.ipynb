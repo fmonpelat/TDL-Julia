{
 "cells": [
  {
   "cell_type": "code",
   "execution_count": 7,
   "metadata": {},
   "outputs": [],
   "source": [
    "using PyCall\n",
    "@pyimport IPython.display as IPyD"
   ]
  },
  {
   "cell_type": "markdown",
   "metadata": {},
   "source": [
    "### El método montecarlo\n",
    "\n",
    "- Es un método numerico para aproximar resultados\n",
    "- Se utilizan números aleatorios como base de los cálculos\n",
    "- Cada problema tiene su propia implementación del método más allá de la secuencia aleatoria de números\n",
    "- Se basa en que es muy fácil generar muchos casos aleatorios computacionalmente para poder aproximar cálculos que analíticamente serían muy complicados\n",
    "- Surgió a medidados del siglo pasado"
   ]
  },
  {
   "cell_type": "markdown",
   "metadata": {},
   "source": [
    "### Montecarlo la capital del juego de azar"
   ]
  },
  {
   "cell_type": "code",
   "execution_count": 22,
   "metadata": {},
   "outputs": [
    {
     "data": {
      "text/html": [
       "<img src=\"https://upload.wikimedia.org/wikipedia/commons/8/87/The_Casino%2C_Monte_Carlo_-_panoramio_cropped.jpg\" width=\"1000\"/>"
      ],
      "text/plain": [
       "PyObject <IPython.core.display.Image object>"
      ]
     },
     "execution_count": 22,
     "metadata": {},
     "output_type": "execute_result"
    }
   ],
   "source": [
    "IPyD.Image(url=\"https://upload.wikimedia.org/wikipedia/commons/8/87/The_Casino%2C_Monte_Carlo_-_panoramio_cropped.jpg\", width=1000)"
   ]
  },
  {
   "cell_type": "markdown",
   "metadata": {},
   "source": [
    "### Aproximando Pi mediante el método de Montecarlo"
   ]
  }
 ],
 "metadata": {
  "kernelspec": {
   "display_name": "Julia 1.4.2",
   "language": "julia",
   "name": "julia-1.4"
  },
  "language_info": {
   "file_extension": ".jl",
   "mimetype": "application/julia",
   "name": "julia",
   "version": "1.4.2"
  }
 },
 "nbformat": 4,
 "nbformat_minor": 4
}
