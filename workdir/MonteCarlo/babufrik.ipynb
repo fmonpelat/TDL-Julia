{
 "cells": [
  {
   "cell_type": "code",
   "execution_count": 1,
   "metadata": {},
   "outputs": [
    {
     "data": {
      "text/html": [
       "<head>\n",
       "\t<meta charset=\"utf-8\">\n",
       "\t<title>Show Babu Frik </title>\n",
       "\t<link rel=\"stylesheet\" href=\"toasty/toasty.css\" />\n",
       "</head>\n",
       "<script src=\"https://code.jquery.com/jquery-1.11.2.min.js\"></script>\n",
       "<script src=\"toasty/jquery.toasty.js\"></script>\n"
      ],
      "text/plain": [
       "HTML{String}(\"<head>\\n\\t<meta charset=\\\"utf-8\\\">\\n\\t<title>Show Babu Frik </title>\\n\\t<link rel=\\\"stylesheet\\\" href=\\\"toasty/toasty.css\\\" />\\n</head>\\n<script src=\\\"https://code.jquery.com/jquery-1.11.2.min.js\\\"></script>\\n<script src=\\\"toasty/jquery.toasty.js\\\"></script>\\n\")"
      ]
     },
     "execution_count": 1,
     "metadata": {},
     "output_type": "execute_result"
    }
   ],
   "source": [
    "HTML(\"\"\"\n",
    "<head>\n",
    "\t<meta charset=\"utf-8\">\n",
    "\t<title>Show Babu Frik </title>\n",
    "\t<link rel=\"stylesheet\" href=\"toasty/toasty.css\" />\n",
    "</head>\n",
    "<script src=\"https://code.jquery.com/jquery-1.11.2.min.js\"></script>\n",
    "<script src=\"toasty/jquery.toasty.js\"></script>\n",
    "\"\"\")"
   ]
  },
  {
   "cell_type": "code",
   "execution_count": 3,
   "metadata": {},
   "outputs": [
    {
     "data": {
      "application/javascript": [
       "$(document).ready( function(){\n",
       "          $(\"body\").toasty();\n",
       "          $(\"body\").toasty('pop');\n",
       "});\n"
      ]
     },
     "metadata": {},
     "output_type": "display_data"
    }
   ],
   "source": [
    "macro javascript_str(s) display(\"text/javascript\", s); end\n",
    "javascript\"\"\"\n",
    "$(document).ready( function(){\n",
    "          $(\"body\").toasty();\n",
    "          $(\"body\").toasty('pop');\n",
    "});\n",
    "\"\"\""
   ]
  },
  {
   "cell_type": "code",
   "execution_count": null,
   "metadata": {},
   "outputs": [],
   "source": []
  },
  {
   "cell_type": "code",
   "execution_count": null,
   "metadata": {},
   "outputs": [],
   "source": []
  }
 ],
 "metadata": {
  "kernelspec": {
   "display_name": "Julia 1.4.2",
   "language": "julia",
   "name": "julia-1.4"
  },
  "language_info": {
   "file_extension": ".jl",
   "mimetype": "application/julia",
   "name": "julia",
   "version": "1.4.2"
  }
 },
 "nbformat": 4,
 "nbformat_minor": 4
}
