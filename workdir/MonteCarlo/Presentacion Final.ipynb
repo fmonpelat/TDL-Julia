{
 "cells": [
  {
   "cell_type": "markdown",
   "metadata": {},
   "source": [
    "#### AWS t2.xlarge\n",
    "Vendor=GenuineIntel Model=Intel(R) Xeon(R) CPU E5-2686 v4 @ 2.30GHz MHz=2300.234 bogomips=4600.15\n",
    "ProcessorChips=1 PhyscalCores=4\n"
   ]
  },
  {
   "cell_type": "code",
   "execution_count": 1,
   "metadata": {},
   "outputs": [],
   "source": [
    "using Distributed"
   ]
  },
  {
   "cell_type": "code",
   "execution_count": 2,
   "metadata": {},
   "outputs": [
    {
     "data": {
      "text/html": [
       "<head>\n",
       "\t<meta charset=\"utf-8\">\n",
       "\t<title>Show Babu Frik </title>\n",
       "\t<link rel=\"stylesheet\" href=\"toasty/toasty.css\" />\n",
       "</head>\n",
       "<script src=\"https://code.jquery.com/jquery-1.11.2.min.js\"></script>\n",
       "<script src=\"toasty/jquery.toasty.js\"></script>\n"
      ],
      "text/plain": [
       "HTML{String}(\"<head>\\n\\t<meta charset=\\\"utf-8\\\">\\n\\t<title>Show Babu Frik </title>\\n\\t<link rel=\\\"stylesheet\\\" href=\\\"toasty/toasty.css\\\" />\\n</head>\\n<script src=\\\"https://code.jquery.com/jquery-1.11.2.min.js\\\"></script>\\n<script src=\\\"toasty/jquery.toasty.js\\\"></script>\\n\")"
      ]
     },
     "execution_count": 2,
     "metadata": {},
     "output_type": "execute_result"
    }
   ],
   "source": [
    "HTML(\"\"\"\n",
    "<head>\n",
    "\t<meta charset=\"utf-8\">\n",
    "\t<title>Show Babu Frik </title>\n",
    "\t<link rel=\"stylesheet\" href=\"toasty/toasty.css\" />\n",
    "</head>\n",
    "<script src=\"https://code.jquery.com/jquery-1.11.2.min.js\"></script>\n",
    "<script src=\"toasty/jquery.toasty.js\"></script>\n",
    "\"\"\")"
   ]
  },
  {
   "cell_type": "code",
   "execution_count": 3,
   "metadata": {},
   "outputs": [
    {
     "data": {
      "text/latex": [
       "The analogue of IPython's \\texttt{\\%\\%javascript ...code...} in Julia can be constructed by first evaluating\n",
       "\n",
       "\\begin{verbatim}\n",
       "macro javascript_str(s) display(\"text/javascript\", s); end\n",
       "\\end{verbatim}\n",
       "to define the \\texttt{javascript\"....\"} \\href{http://docs.julialang.org/en/latest/manual/strings/#non-standard-string-literals}{string macro} in Julia.  Subsequently, you can simply do:\n",
       "\n",
       "\\begin{verbatim}\n",
       "javascript\"\"\"\n",
       "...code...\n",
       "\"\"\"\n",
       "\\end{verbatim}\n",
       "to execute the script in an IJulia notebook.\n",
       "\n"
      ],
      "text/markdown": [
       "The analogue of IPython's `%%javascript ...code...` in Julia can be constructed by first evaluating\n",
       "\n",
       "```\n",
       "macro javascript_str(s) display(\"text/javascript\", s); end\n",
       "```\n",
       "\n",
       "to define the `javascript\"....\"` [string macro](http://docs.julialang.org/en/latest/manual/strings/#non-standard-string-literals) in Julia.  Subsequently, you can simply do:\n",
       "\n",
       "```\n",
       "javascript\"\"\"\n",
       "...code...\n",
       "\"\"\"\n",
       "```\n",
       "\n",
       "to execute the script in an IJulia notebook.\n"
      ],
      "text/plain": [
       "  The analogue of IPython's \u001b[36m%%javascript ...code...\u001b[39m in Julia can be\n",
       "  constructed by first evaluating\n",
       "\n",
       "\u001b[36m  macro javascript_str(s) display(\"text/javascript\", s); end\u001b[39m\n",
       "\n",
       "  to define the \u001b[36mjavascript\"....\"\u001b[39m string macro\n",
       "  (http://docs.julialang.org/en/latest/manual/strings/#non-standard-string-literals)\n",
       "  in Julia. Subsequently, you can simply do:\n",
       "\n",
       "\u001b[36m  javascript\"\"\"\u001b[39m\n",
       "\u001b[36m  ...code...\u001b[39m\n",
       "\u001b[36m  \"\"\"\u001b[39m\n",
       "\n",
       "  to execute the script in an IJulia notebook."
      ]
     },
     "metadata": {},
     "output_type": "display_data"
    }
   ],
   "source": [
    "%%javascript"
   ]
  },
  {
   "cell_type": "code",
   "execution_count": 4,
   "metadata": {},
   "outputs": [
    {
     "data": {
      "text/plain": [
       "@javascript_str (macro with 1 method)"
      ]
     },
     "execution_count": 4,
     "metadata": {},
     "output_type": "execute_result"
    }
   ],
   "source": [
    "macro javascript_str(s) display(\"text/javascript\", s); end\n"
   ]
  },
  {
   "cell_type": "code",
   "execution_count": 5,
   "metadata": {},
   "outputs": [
    {
     "data": {
      "text/plain": [
       "@hurray (macro with 1 method)"
      ]
     },
     "execution_count": 5,
     "metadata": {},
     "output_type": "execute_result"
    }
   ],
   "source": [
    "macro hurray()\n",
    "    return :(\n",
    "        javascript\"\"\"\n",
    "        $(document).ready( function(){\n",
    "                  $(\"body\").toasty();\n",
    "                  $(\"body\").toasty('pop');\n",
    "        });\n",
    "        \"\"\"\n",
    "    )\n",
    "end"
   ]
  },
  {
   "cell_type": "code",
   "execution_count": 6,
   "metadata": {},
   "outputs": [
    {
     "data": {
      "text/plain": [
       "4-element Array{Tuple{String,Int64},1}:\n",
       " (\"montecarlo@worker_1:22\", 1)\n",
       " (\"montecarlo@worker_2:22\", 1)\n",
       " (\"montecarlo@worker_3:22\", 1)\n",
       " (\"montecarlo@worker_4:22\", 1)"
      ]
     },
     "execution_count": 6,
     "metadata": {},
     "output_type": "execute_result"
    }
   ],
   "source": [
    "workervec = [(\"montecarlo@worker_1:22\",1),\n",
    "             (\"montecarlo@worker_2:22\",1),\n",
    "             (\"montecarlo@worker_3:22\",1),\n",
    "             (\"montecarlo@worker_4:22\",1)]"
   ]
  },
  {
   "cell_type": "code",
   "execution_count": 7,
   "metadata": {},
   "outputs": [
    {
     "name": "stderr",
     "output_type": "stream",
     "text": [
      "Warning: Permanently added 'worker_2,172.18.0.6' (ECDSA) to the list of known hosts.\r\n",
      "Warning: Permanently added 'worker_1,172.18.0.3' (ECDSA) to the list of known hosts.\r\n",
      "Warning: Permanently added 'worker_3,172.18.0.5' (ECDSA) to the list of known hosts.\r\n",
      "Warning: Permanently added 'worker_4,172.18.0.4' (ECDSA) to the list of known hosts.\r\n"
     ]
    },
    {
     "data": {
      "text/plain": [
       "4-element Array{Int64,1}:\n",
       " 2\n",
       " 3\n",
       " 4\n",
       " 5"
      ]
     },
     "execution_count": 7,
     "metadata": {},
     "output_type": "execute_result"
    }
   ],
   "source": [
    "addprocs(workervec; tunnel=true)"
   ]
  },
  {
   "cell_type": "code",
   "execution_count": 8,
   "metadata": {},
   "outputs": [
    {
     "name": "stdout",
     "output_type": "stream",
     "text": [
      "Number procs: 5\n",
      "Number of workers: 4\n"
     ]
    }
   ],
   "source": [
    "println(\"Number procs: $(nprocs())\")\n",
    "println(\"Number of workers: $(nworkers())\")"
   ]
  },
  {
   "cell_type": "code",
   "execution_count": 12,
   "metadata": {},
   "outputs": [],
   "source": [
    "@everywhere function MC_pi(N::Int)\n",
    "    in_circle = 0\n",
    "    for i = 1:N\n",
    "        x, y = 2*rand()-1, 2*rand()-1\n",
    "        in_circle += x^2 + y^2 <= 1.0\n",
    "    end\n",
    "    return in_circle\n",
    "end"
   ]
  },
  {
   "cell_type": "code",
   "execution_count": 10,
   "metadata": {},
   "outputs": [
    {
     "data": {
      "text/plain": [
       "Distributed_calc (generic function with 2 methods)"
      ]
     },
     "execution_count": 10,
     "metadata": {},
     "output_type": "execute_result"
    }
   ],
   "source": [
    "function Distributed_calc(f::Function, N::Int, workers::Int=-1)\n",
    "    p = nworkers()\n",
    "    if workers != -1 && workers <=p\n",
    "        p = workers\n",
    "    end\n",
    "    n = convert(Int64,round(N/p))\n",
    "    \n",
    "    n_in = @distributed (+) for i=1:p\n",
    "        f(n)\n",
    "    end\n",
    "    return n_in\n",
    "end\n",
    "        "
   ]
  },
  {
   "cell_type": "code",
   "execution_count": 16,
   "metadata": {},
   "outputs": [
    {
     "name": "stdout",
     "output_type": "stream",
     "text": [
      "3.141687832\n",
      " 11.503941 seconds (27 allocations: 976 bytes)\n"
     ]
    }
   ],
   "source": [
    "@time println( (4/1_000_000_000)*MC_pi(1_000_000_000))"
   ]
  },
  {
   "cell_type": "code",
   "execution_count": 17,
   "metadata": {},
   "outputs": [
    {
     "data": {
      "application/javascript": [
       "$(document).ready( function(){\n",
       "          $(\"body\").toasty();\n",
       "          $(\"body\").toasty('pop');\n",
       "});\n"
      ]
     },
     "metadata": {},
     "output_type": "display_data"
    },
    {
     "name": "stdout",
     "output_type": "stream",
     "text": [
      "3.1415759448\n",
      " 14.425436 seconds (718 allocations: 26.531 KiB)\n"
     ]
    }
   ],
   "source": [
    "@time println( (4/5_000_000_000)*Distributed_calc(MC_PI,5_000_000_000,-1) )\n",
    "@hurray"
   ]
  },
  {
   "cell_type": "code",
   "execution_count": null,
   "metadata": {},
   "outputs": [],
   "source": []
  }
 ],
 "metadata": {
  "kernelspec": {
   "display_name": "Julia 1.4.2",
   "language": "julia",
   "name": "julia-1.4"
  },
  "language_info": {
   "file_extension": ".jl",
   "mimetype": "application/julia",
   "name": "julia",
   "version": "1.4.2"
  }
 },
 "nbformat": 4,
 "nbformat_minor": 4
}
