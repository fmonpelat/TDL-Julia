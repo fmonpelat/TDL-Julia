{
 "cells": [
  {
   "cell_type": "markdown",
   "metadata": {},
   "source": [
    "### Tasks or Coroutines\n",
    "Las tareas son una mejora de flujos de control que permite suspender computos y ser resumidos de una forma flexible.\n",
    "\n",
    "\n",
    "Ejemplo:\n",
    "Esquema Producer-consumer"
   ]
  },
  {
   "cell_type": "code",
   "execution_count": 1,
   "metadata": {},
   "outputs": [
    {
     "data": {
      "text/plain": [
       "consumer (generic function with 1 method)"
      ]
     },
     "execution_count": 1,
     "metadata": {},
     "output_type": "execute_result"
    }
   ],
   "source": [
    "const output = []\n",
    "const broken = Ref(false)\n",
    "\n",
    "function producer(ch)\n",
    "    for val = 1 :  10\n",
    "        put!(ch, val)\n",
    "        println(\"produced: $(val)\")\n",
    "        sleep(1)\n",
    "    end\n",
    "end\n",
    "\n",
    "function consumer(ch)\n",
    "    while true\n",
    "        val = take!(ch)\n",
    "        sleep(0.5)\n",
    "        val === NaN && (broken[] = true;println(\"Consumer ended ...\"); break)\n",
    "        println(\"consumed: $(val)\")\n",
    "        push!(output, val)\n",
    "    end\n",
    "end\n",
    "\n"
   ]
  },
  {
   "cell_type": "markdown",
   "metadata": {},
   "source": [
    "Para consumir los valores, primero creamos el productor wrappeado en un Task, luego el consumer es llamada repetidamente hasta acabar lo producido (hasta produdir stop)."
   ]
  },
  {
   "cell_type": "code",
   "execution_count": 2,
   "metadata": {},
   "outputs": [
    {
     "data": {
      "text/plain": [
       "0-element Array{Any,1}"
      ]
     },
     "execution_count": 2,
     "metadata": {},
     "output_type": "execute_result"
    }
   ],
   "source": [
    "empty!(output)"
   ]
  },
  {
   "cell_type": "code",
   "execution_count": 3,
   "metadata": {},
   "outputs": [
    {
     "name": "stdout",
     "output_type": "stream",
     "text": [
      "Any[1, 2, 3, 4, 5, 6, 7, 8, 9, 10]\n",
      "Task (done) @0x00007fbc7cad5600\n",
      "Any[1, 2, 3, 4, 5, 6, 7, 8, 9, 10]\n",
      "Base.RefValue{Bool}(true)\n"
     ]
    }
   ],
   "source": [
    "broken[] = false\n",
    "\n",
    "# Channels can serve as a way to communicate between tasks\n",
    "channel = Channel(0)\n",
    "\n",
    "producer_task = @task producer(channel)\n",
    "schedule(producer_task)\n",
    "\n",
    "# Switch to the scheduler to allow another scheduled task to run. \n",
    "# A task that calls this function is still runnable, and will be restarted immediately if\n",
    "# there are no other runnable tasks.\n",
    "yield()\n",
    "\n",
    "consumer_task = @task consumer(channel)\n",
    "schedule(consumer_task)\n",
    "\n",
    "for i = 1:6\n",
    "    yield()\n",
    "end\n",
    "\n",
    "put!(channel, NaN)  # Poission pill => matamos el channel\n",
    "\n",
    "println(output)\n",
    "println(consumer_task)\n",
    "println(output)\n",
    "println(broken)"
   ]
  },
  {
   "cell_type": "code",
   "execution_count": null,
   "metadata": {},
   "outputs": [],
   "source": []
  }
 ],
 "metadata": {
  "kernelspec": {
   "display_name": "Julia 1.4.2",
   "language": "julia",
   "name": "julia-1.4"
  },
  "language_info": {
   "file_extension": ".jl",
   "mimetype": "application/julia",
   "name": "julia",
   "version": "1.4.2"
  }
 },
 "nbformat": 4,
 "nbformat_minor": 4
}
